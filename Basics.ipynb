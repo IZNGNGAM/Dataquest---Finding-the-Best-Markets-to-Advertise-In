{
 "cells": [
  {
   "cell_type": "markdown",
   "metadata": {
    "collapsed": true
   },
   "source": [
    "# Guided Project: Finding the Best Markets to Advertise In\n",
    "\n",
    "Solution notebook can be referenced [here](https://github.com/dataquestio/solutions/blob/master/Mission310Solutions.ipynb)."
   ]
  },
  {
   "cell_type": "markdown",
   "metadata": {},
   "source": [
    "## Finding the Best Two Markets to Advertise In\n",
    "\n",
    "Let's assume that we're working for an an e-learning company that offers courses on programming. Most of our courses are on web and mobile development, but we also cover many other domains, like data science, game development, etc. We want to promote our product and we'd like to invest some money in advertisement. \n",
    "\n",
    "**Our goal in this project is to find out the two best markets to advertise our product in.**"
   ]
  },
  {
   "cell_type": "markdown",
   "metadata": {},
   "source": [
    "## Understanding the Data\n",
    "\n",
    "We can try to search existing data that might be relevant for our purpose. One good candidate is the data from [freeCodeCamp's 2017 New Coder Survey](https://medium.freecodecamp.org/we-asked-20-000-people-who-they-are-and-how-theyre-learning-to-code-fff5d668969). \n",
    "\n",
    "[freeCodeCamp](https://www.freecodecamp.org/) is a free e-learning platform that offers courses on web development. Because they run a popular Medium publication (over 400,000 followers), their survey attracted new coders with varying interests (not only web development), which is ideal for the purpose of our analysis.\n",
    "\n",
    "The survey data is publicly available in this [GitHub repository](https://github.com/freeCodeCamp/2017-new-coder-survey).\n",
    "\n",
    "Link to the cleaned dataset is [here](https://github.com/freeCodeCamp/2017-new-coder-survey/blob/master/clean-data/2017-fCC-New-Coders-Survey-Data.csv)."
   ]
  },
  {
   "cell_type": "code",
   "execution_count": 1,
   "metadata": {
    "collapsed": true
   },
   "outputs": [],
   "source": [
    "import pandas as pd\n",
    "import numpy as np\n",
    "import matplotlib.pyplot as plt\n",
    "import seaborn as sns"
   ]
  },
  {
   "cell_type": "code",
   "execution_count": 2,
   "metadata": {
    "collapsed": false
   },
   "outputs": [
    {
     "data": {
      "text/plain": [
       "(18175, 136)"
      ]
     },
     "execution_count": 2,
     "metadata": {},
     "output_type": "execute_result"
    }
   ],
   "source": [
    "fcc_survey = pd.read_csv('2017-fCC-New-Coders-Survey-Data.csv', low_memory = False)\n",
    "fcc_survey.shape"
   ]
  },
  {
   "cell_type": "code",
   "execution_count": 3,
   "metadata": {
    "collapsed": false
   },
   "outputs": [
    {
     "data": {
      "text/html": [
       "<div>\n",
       "<style scoped>\n",
       "    .dataframe tbody tr th:only-of-type {\n",
       "        vertical-align: middle;\n",
       "    }\n",
       "\n",
       "    .dataframe tbody tr th {\n",
       "        vertical-align: top;\n",
       "    }\n",
       "\n",
       "    .dataframe thead th {\n",
       "        text-align: right;\n",
       "    }\n",
       "</style>\n",
       "<table border=\"1\" class=\"dataframe\">\n",
       "  <thead>\n",
       "    <tr style=\"text-align: right;\">\n",
       "      <th></th>\n",
       "      <th>Age</th>\n",
       "      <th>AttendedBootcamp</th>\n",
       "      <th>BootcampFinish</th>\n",
       "      <th>BootcampLoanYesNo</th>\n",
       "      <th>BootcampName</th>\n",
       "      <th>BootcampRecommend</th>\n",
       "      <th>ChildrenNumber</th>\n",
       "      <th>CityPopulation</th>\n",
       "      <th>CodeEventConferences</th>\n",
       "      <th>CodeEventDjangoGirls</th>\n",
       "      <th>...</th>\n",
       "      <th>YouTubeFCC</th>\n",
       "      <th>YouTubeFunFunFunction</th>\n",
       "      <th>YouTubeGoogleDev</th>\n",
       "      <th>YouTubeLearnCode</th>\n",
       "      <th>YouTubeLevelUpTuts</th>\n",
       "      <th>YouTubeMIT</th>\n",
       "      <th>YouTubeMozillaHacks</th>\n",
       "      <th>YouTubeOther</th>\n",
       "      <th>YouTubeSimplilearn</th>\n",
       "      <th>YouTubeTheNewBoston</th>\n",
       "    </tr>\n",
       "  </thead>\n",
       "  <tbody>\n",
       "    <tr>\n",
       "      <th>0</th>\n",
       "      <td>27.0</td>\n",
       "      <td>0.0</td>\n",
       "      <td>NaN</td>\n",
       "      <td>NaN</td>\n",
       "      <td>NaN</td>\n",
       "      <td>NaN</td>\n",
       "      <td>NaN</td>\n",
       "      <td>more than 1 million</td>\n",
       "      <td>NaN</td>\n",
       "      <td>NaN</td>\n",
       "      <td>...</td>\n",
       "      <td>NaN</td>\n",
       "      <td>NaN</td>\n",
       "      <td>NaN</td>\n",
       "      <td>NaN</td>\n",
       "      <td>NaN</td>\n",
       "      <td>NaN</td>\n",
       "      <td>NaN</td>\n",
       "      <td>NaN</td>\n",
       "      <td>NaN</td>\n",
       "      <td>NaN</td>\n",
       "    </tr>\n",
       "    <tr>\n",
       "      <th>1</th>\n",
       "      <td>34.0</td>\n",
       "      <td>0.0</td>\n",
       "      <td>NaN</td>\n",
       "      <td>NaN</td>\n",
       "      <td>NaN</td>\n",
       "      <td>NaN</td>\n",
       "      <td>NaN</td>\n",
       "      <td>less than 100,000</td>\n",
       "      <td>NaN</td>\n",
       "      <td>NaN</td>\n",
       "      <td>...</td>\n",
       "      <td>1.0</td>\n",
       "      <td>NaN</td>\n",
       "      <td>NaN</td>\n",
       "      <td>NaN</td>\n",
       "      <td>NaN</td>\n",
       "      <td>NaN</td>\n",
       "      <td>NaN</td>\n",
       "      <td>NaN</td>\n",
       "      <td>NaN</td>\n",
       "      <td>NaN</td>\n",
       "    </tr>\n",
       "    <tr>\n",
       "      <th>2</th>\n",
       "      <td>21.0</td>\n",
       "      <td>0.0</td>\n",
       "      <td>NaN</td>\n",
       "      <td>NaN</td>\n",
       "      <td>NaN</td>\n",
       "      <td>NaN</td>\n",
       "      <td>NaN</td>\n",
       "      <td>more than 1 million</td>\n",
       "      <td>NaN</td>\n",
       "      <td>NaN</td>\n",
       "      <td>...</td>\n",
       "      <td>NaN</td>\n",
       "      <td>NaN</td>\n",
       "      <td>NaN</td>\n",
       "      <td>1.0</td>\n",
       "      <td>1.0</td>\n",
       "      <td>NaN</td>\n",
       "      <td>NaN</td>\n",
       "      <td>NaN</td>\n",
       "      <td>NaN</td>\n",
       "      <td>NaN</td>\n",
       "    </tr>\n",
       "    <tr>\n",
       "      <th>3</th>\n",
       "      <td>26.0</td>\n",
       "      <td>0.0</td>\n",
       "      <td>NaN</td>\n",
       "      <td>NaN</td>\n",
       "      <td>NaN</td>\n",
       "      <td>NaN</td>\n",
       "      <td>NaN</td>\n",
       "      <td>between 100,000 and 1 million</td>\n",
       "      <td>NaN</td>\n",
       "      <td>NaN</td>\n",
       "      <td>...</td>\n",
       "      <td>1.0</td>\n",
       "      <td>1.0</td>\n",
       "      <td>NaN</td>\n",
       "      <td>NaN</td>\n",
       "      <td>1.0</td>\n",
       "      <td>NaN</td>\n",
       "      <td>NaN</td>\n",
       "      <td>NaN</td>\n",
       "      <td>NaN</td>\n",
       "      <td>NaN</td>\n",
       "    </tr>\n",
       "    <tr>\n",
       "      <th>4</th>\n",
       "      <td>20.0</td>\n",
       "      <td>0.0</td>\n",
       "      <td>NaN</td>\n",
       "      <td>NaN</td>\n",
       "      <td>NaN</td>\n",
       "      <td>NaN</td>\n",
       "      <td>NaN</td>\n",
       "      <td>between 100,000 and 1 million</td>\n",
       "      <td>NaN</td>\n",
       "      <td>NaN</td>\n",
       "      <td>...</td>\n",
       "      <td>NaN</td>\n",
       "      <td>NaN</td>\n",
       "      <td>NaN</td>\n",
       "      <td>NaN</td>\n",
       "      <td>NaN</td>\n",
       "      <td>NaN</td>\n",
       "      <td>NaN</td>\n",
       "      <td>NaN</td>\n",
       "      <td>NaN</td>\n",
       "      <td>NaN</td>\n",
       "    </tr>\n",
       "  </tbody>\n",
       "</table>\n",
       "<p>5 rows × 136 columns</p>\n",
       "</div>"
      ],
      "text/plain": [
       "    Age  AttendedBootcamp  BootcampFinish  BootcampLoanYesNo BootcampName  \\\n",
       "0  27.0               0.0             NaN                NaN          NaN   \n",
       "1  34.0               0.0             NaN                NaN          NaN   \n",
       "2  21.0               0.0             NaN                NaN          NaN   \n",
       "3  26.0               0.0             NaN                NaN          NaN   \n",
       "4  20.0               0.0             NaN                NaN          NaN   \n",
       "\n",
       "   BootcampRecommend  ChildrenNumber                 CityPopulation  \\\n",
       "0                NaN             NaN            more than 1 million   \n",
       "1                NaN             NaN              less than 100,000   \n",
       "2                NaN             NaN            more than 1 million   \n",
       "3                NaN             NaN  between 100,000 and 1 million   \n",
       "4                NaN             NaN  between 100,000 and 1 million   \n",
       "\n",
       "   CodeEventConferences  CodeEventDjangoGirls         ...           \\\n",
       "0                   NaN                   NaN         ...            \n",
       "1                   NaN                   NaN         ...            \n",
       "2                   NaN                   NaN         ...            \n",
       "3                   NaN                   NaN         ...            \n",
       "4                   NaN                   NaN         ...            \n",
       "\n",
       "   YouTubeFCC  YouTubeFunFunFunction  YouTubeGoogleDev  YouTubeLearnCode  \\\n",
       "0         NaN                    NaN               NaN               NaN   \n",
       "1         1.0                    NaN               NaN               NaN   \n",
       "2         NaN                    NaN               NaN               1.0   \n",
       "3         1.0                    1.0               NaN               NaN   \n",
       "4         NaN                    NaN               NaN               NaN   \n",
       "\n",
       "   YouTubeLevelUpTuts  YouTubeMIT  YouTubeMozillaHacks YouTubeOther  \\\n",
       "0                 NaN         NaN                  NaN          NaN   \n",
       "1                 NaN         NaN                  NaN          NaN   \n",
       "2                 1.0         NaN                  NaN          NaN   \n",
       "3                 1.0         NaN                  NaN          NaN   \n",
       "4                 NaN         NaN                  NaN          NaN   \n",
       "\n",
       "   YouTubeSimplilearn  YouTubeTheNewBoston  \n",
       "0                 NaN                  NaN  \n",
       "1                 NaN                  NaN  \n",
       "2                 NaN                  NaN  \n",
       "3                 NaN                  NaN  \n",
       "4                 NaN                  NaN  \n",
       "\n",
       "[5 rows x 136 columns]"
      ]
     },
     "execution_count": 3,
     "metadata": {},
     "output_type": "execute_result"
    }
   ],
   "source": [
    "fcc_survey.head()"
   ]
  },
  {
   "cell_type": "code",
   "execution_count": 4,
   "metadata": {
    "collapsed": false
   },
   "outputs": [
    {
     "name": "stdout",
     "output_type": "stream",
     "text": [
      "<class 'pandas.core.frame.DataFrame'>\n",
      "RangeIndex: 18175 entries, 0 to 18174\n",
      "Columns: 136 entries, Age to YouTubeTheNewBoston\n",
      "dtypes: float64(105), object(31)\n",
      "memory usage: 18.9+ MB\n"
     ]
    }
   ],
   "source": [
    "fcc_survey.info()"
   ]
  },
  {
   "cell_type": "code",
   "execution_count": 5,
   "metadata": {
    "collapsed": false
   },
   "outputs": [
    {
     "data": {
      "text/plain": [
       "['Age',\n",
       " 'AttendedBootcamp',\n",
       " 'BootcampFinish',\n",
       " 'BootcampLoanYesNo',\n",
       " 'BootcampName',\n",
       " 'BootcampRecommend',\n",
       " 'ChildrenNumber',\n",
       " 'CityPopulation',\n",
       " 'CodeEventConferences',\n",
       " 'CodeEventDjangoGirls',\n",
       " 'CodeEventFCC',\n",
       " 'CodeEventGameJam',\n",
       " 'CodeEventGirlDev',\n",
       " 'CodeEventHackathons',\n",
       " 'CodeEventMeetup',\n",
       " 'CodeEventNodeSchool',\n",
       " 'CodeEventNone',\n",
       " 'CodeEventOther',\n",
       " 'CodeEventRailsBridge',\n",
       " 'CodeEventRailsGirls',\n",
       " 'CodeEventStartUpWknd',\n",
       " 'CodeEventWkdBootcamps',\n",
       " 'CodeEventWomenCode',\n",
       " 'CodeEventWorkshops',\n",
       " 'CommuteTime',\n",
       " 'CountryCitizen',\n",
       " 'CountryLive',\n",
       " 'EmploymentField',\n",
       " 'EmploymentFieldOther',\n",
       " 'EmploymentStatus',\n",
       " 'EmploymentStatusOther',\n",
       " 'ExpectedEarning',\n",
       " 'FinanciallySupporting',\n",
       " 'FirstDevJob',\n",
       " 'Gender',\n",
       " 'GenderOther',\n",
       " 'HasChildren',\n",
       " 'HasDebt',\n",
       " 'HasFinancialDependents',\n",
       " 'HasHighSpdInternet',\n",
       " 'HasHomeMortgage',\n",
       " 'HasServedInMilitary',\n",
       " 'HasStudentDebt',\n",
       " 'HomeMortgageOwe',\n",
       " 'HoursLearning',\n",
       " 'ID.x',\n",
       " 'ID.y',\n",
       " 'Income',\n",
       " 'IsEthnicMinority',\n",
       " 'IsReceiveDisabilitiesBenefits',\n",
       " 'IsSoftwareDev',\n",
       " 'IsUnderEmployed',\n",
       " 'JobApplyWhen',\n",
       " 'JobInterestBackEnd',\n",
       " 'JobInterestDataEngr',\n",
       " 'JobInterestDataSci',\n",
       " 'JobInterestDevOps',\n",
       " 'JobInterestFrontEnd',\n",
       " 'JobInterestFullStack',\n",
       " 'JobInterestGameDev',\n",
       " 'JobInterestInfoSec',\n",
       " 'JobInterestMobile',\n",
       " 'JobInterestOther',\n",
       " 'JobInterestProjMngr',\n",
       " 'JobInterestQAEngr',\n",
       " 'JobInterestUX',\n",
       " 'JobPref',\n",
       " 'JobRelocateYesNo',\n",
       " 'JobRoleInterest',\n",
       " 'JobWherePref',\n",
       " 'LanguageAtHome',\n",
       " 'MaritalStatus',\n",
       " 'MoneyForLearning',\n",
       " 'MonthsProgramming',\n",
       " 'NetworkID',\n",
       " 'Part1EndTime',\n",
       " 'Part1StartTime',\n",
       " 'Part2EndTime',\n",
       " 'Part2StartTime',\n",
       " 'PodcastChangeLog',\n",
       " 'PodcastCodeNewbie',\n",
       " 'PodcastCodePen',\n",
       " 'PodcastDevTea',\n",
       " 'PodcastDotNET',\n",
       " 'PodcastGiantRobots',\n",
       " 'PodcastJSAir',\n",
       " 'PodcastJSJabber',\n",
       " 'PodcastNone',\n",
       " 'PodcastOther',\n",
       " 'PodcastProgThrowdown',\n",
       " 'PodcastRubyRogues',\n",
       " 'PodcastSEDaily',\n",
       " 'PodcastSERadio',\n",
       " 'PodcastShopTalk',\n",
       " 'PodcastTalkPython',\n",
       " 'PodcastTheWebAhead',\n",
       " 'ResourceCodecademy',\n",
       " 'ResourceCodeWars',\n",
       " 'ResourceCoursera',\n",
       " 'ResourceCSS',\n",
       " 'ResourceEdX',\n",
       " 'ResourceEgghead',\n",
       " 'ResourceFCC',\n",
       " 'ResourceHackerRank',\n",
       " 'ResourceKA',\n",
       " 'ResourceLynda',\n",
       " 'ResourceMDN',\n",
       " 'ResourceOdinProj',\n",
       " 'ResourceOther',\n",
       " 'ResourcePluralSight',\n",
       " 'ResourceSkillcrush',\n",
       " 'ResourceSO',\n",
       " 'ResourceTreehouse',\n",
       " 'ResourceUdacity',\n",
       " 'ResourceUdemy',\n",
       " 'ResourceW3S',\n",
       " 'SchoolDegree',\n",
       " 'SchoolMajor',\n",
       " 'StudentDebtOwe',\n",
       " 'YouTubeCodeCourse',\n",
       " 'YouTubeCodingTrain',\n",
       " 'YouTubeCodingTut360',\n",
       " 'YouTubeComputerphile',\n",
       " 'YouTubeDerekBanas',\n",
       " 'YouTubeDevTips',\n",
       " 'YouTubeEngineeredTruth',\n",
       " 'YouTubeFCC',\n",
       " 'YouTubeFunFunFunction',\n",
       " 'YouTubeGoogleDev',\n",
       " 'YouTubeLearnCode',\n",
       " 'YouTubeLevelUpTuts',\n",
       " 'YouTubeMIT',\n",
       " 'YouTubeMozillaHacks',\n",
       " 'YouTubeOther',\n",
       " 'YouTubeSimplilearn',\n",
       " 'YouTubeTheNewBoston']"
      ]
     },
     "execution_count": 5,
     "metadata": {},
     "output_type": "execute_result"
    }
   ],
   "source": [
    "list(fcc_survey.columns)"
   ]
  },
  {
   "cell_type": "markdown",
   "metadata": {},
   "source": [
    "To understand what each column describes, we load in the initial survey questions from the `raw-data` folder of the [repository](https://github.com/freeCodeCamp/2017-new-coder-survey)."
   ]
  },
  {
   "cell_type": "code",
   "execution_count": 6,
   "metadata": {
    "collapsed": false
   },
   "outputs": [
    {
     "data": {
      "text/plain": [
       "(20089, 101)"
      ]
     },
     "execution_count": 6,
     "metadata": {},
     "output_type": "execute_result"
    }
   ],
   "source": [
    "fcc_survey_raw_p1 = pd.read_csv('2017-new-coder-survey-part-1.txt', delimiter = ',')\n",
    "fcc_survey_raw_p1.shape"
   ]
  },
  {
   "cell_type": "code",
   "execution_count": 7,
   "metadata": {
    "collapsed": false
   },
   "outputs": [
    {
     "data": {
      "text/plain": [
       "['#',\n",
       " 'Are you already working as a software developer?',\n",
       " 'Is this your first software development job?',\n",
       " 'Before you got this job, how many months did you spend looking for a job?',\n",
       " 'Would you prefer to...',\n",
       " 'Full-Stack Web Developer',\n",
       " 'Back-End Web Developer',\n",
       " '  Front-End Web Developer',\n",
       " '  Mobile Developer',\n",
       " '  DevOps / SysAdmin',\n",
       " '  Data Scientist',\n",
       " '  Quality Assurance Engineer',\n",
       " '  User Experience Designer',\n",
       " '  Product Manager',\n",
       " 'Game Developer',\n",
       " 'Information Security',\n",
       " 'Data Engineer',\n",
       " 'Other',\n",
       " 'When do you plan to start applying for developer jobs?',\n",
       " 'About how much money do you expect to earn per year at your first developer job (in US Dollars)?',\n",
       " 'Would you prefer to work...',\n",
       " 'Are you willing to relocate for a job?',\n",
       " 'freeCodeCamp',\n",
       " 'EdX',\n",
       " 'Coursera',\n",
       " 'Khan Academy',\n",
       " 'Pluralsight / Code School',\n",
       " 'Codecademy',\n",
       " 'Udacity',\n",
       " 'Udemy',\n",
       " 'Code Wars',\n",
       " 'The Odin Project',\n",
       " 'Treehouse',\n",
       " 'Lynda.com',\n",
       " 'Stack Overflow',\n",
       " 'W3Schools',\n",
       " 'Skillcrush',\n",
       " 'HackerRank',\n",
       " 'Mozilla Developer Network (MDN)',\n",
       " 'Egghead.io',\n",
       " 'CSS Tricks',\n",
       " 'Other.1',\n",
       " 'freeCodeCamp study groups',\n",
       " 'hackathons',\n",
       " 'conferences',\n",
       " 'workshops',\n",
       " 'Startup Weekend',\n",
       " 'NodeSchool',\n",
       " 'Women Who Code',\n",
       " 'Girl Develop It',\n",
       " 'Meetup.com events',\n",
       " 'RailsBridge',\n",
       " 'Game Jam',\n",
       " 'Rails Girls',\n",
       " 'Django Girls',\n",
       " 'weekend bootcamps',\n",
       " 'Other.2',\n",
       " 'Code Newbie',\n",
       " 'The Changelog',\n",
       " 'Software Engineering Daily',\n",
       " 'JavaScript Jabber',\n",
       " 'Ruby Rogues',\n",
       " 'Shop Talk Show',\n",
       " 'Developer Tea',\n",
       " 'Programming Throwdown',\n",
       " '.NET Rocks',\n",
       " 'Talk Python To Me',\n",
       " 'JavaScript Air',\n",
       " 'The Web Ahead',\n",
       " 'CodePen Radio',\n",
       " 'Giant Robots Smashing into Other Giant Robots',\n",
       " 'Software Engineering Radio',\n",
       " 'Other.3',\n",
       " 'MIT Open Courseware',\n",
       " 'The New Boston',\n",
       " 'freeCodeCamp.1',\n",
       " 'Computerphile',\n",
       " 'DevTips',\n",
       " 'Engineered Truth',\n",
       " 'LearnCode.Academy',\n",
       " 'CodeCourse',\n",
       " 'LevelUpTuts',\n",
       " 'funfunfunction',\n",
       " 'Coding Tutorials 360',\n",
       " 'Coding Train (Coding Rainbow)',\n",
       " 'Derek Banas',\n",
       " 'Simplilearn',\n",
       " 'Mozilla Hacks',\n",
       " 'Google Developers',\n",
       " 'Other.4',\n",
       " 'About how many hours do you spend learning each week?',\n",
       " 'About how many months have you been programming for?',\n",
       " 'Have you attended a full-time coding bootcamp?',\n",
       " 'Which one?',\n",
       " 'Have you finished yet?',\n",
       " 'Did you take out a loan to pay for the bootcamp?',\n",
       " 'Based on your experience, would you recommend this bootcamp to your friends?',\n",
       " 'Aside from university tuition, about how much money have you spent on learning to code so far (in US dollars)?',\n",
       " 'Start Date (UTC)',\n",
       " 'Submit Date (UTC)',\n",
       " 'Network ID']"
      ]
     },
     "execution_count": 7,
     "metadata": {},
     "output_type": "execute_result"
    }
   ],
   "source": [
    "list(fcc_survey_raw_p1.columns)"
   ]
  },
  {
   "cell_type": "markdown",
   "metadata": {},
   "source": [
    "## Checking for Sample Representativity\n",
    "\n",
    "As we mentioned earlier, most of the courses we offer are on web and mobile development, but we also cover many other domains, like data science, game development, etc. For the purpose of our analysis, we want to answer questions about a population of new coders that are interested in the subjects we teach. We'd like to know:\n",
    "\n",
    "* Where are these new coders located.\n",
    "* What are the locations with the greatest number of new coders.\n",
    "* How much money new coders are willing to spend on learning.\n",
    "\n",
    "Before starting to analyze the sample data we have, we need to clarify whether it's representative for our population of interest and it has the right categories of people for our purpose."
   ]
  },
  {
   "cell_type": "markdown",
   "metadata": {},
   "source": [
    "***Figure out whether the sample we have is representative for our population of interest.***\n",
    "- The `JobRoleInterest` column describes for every participant the role(s) they'd be interested in working.\n",
    "- Generate a frequency distribution table for this column. Take percentages instead of absolute frequencies.\n",
    "- Analyze the table.\n",
    "    * Are people interested in only one subject or they can be interested in more than one subject?\n",
    "    * If most people are interested in more than one subject, is this sample still representative?\n",
    "    * The focus of our courses is on web and mobile development. How many people are interested in at least one of these two subjects?\n",
    "- Generate at least one graph while you're working on these steps to help the reader understand easier what you're doing.\n",
    "- Use Markdown cells to explain the readers what you're doing."
   ]
  },
  {
   "cell_type": "code",
   "execution_count": 8,
   "metadata": {
    "collapsed": false
   },
   "outputs": [
    {
     "data": {
      "text/html": [
       "<div>\n",
       "<style scoped>\n",
       "    .dataframe tbody tr th:only-of-type {\n",
       "        vertical-align: middle;\n",
       "    }\n",
       "\n",
       "    .dataframe tbody tr th {\n",
       "        vertical-align: top;\n",
       "    }\n",
       "\n",
       "    .dataframe thead th {\n",
       "        text-align: right;\n",
       "    }\n",
       "</style>\n",
       "<table border=\"1\" class=\"dataframe\">\n",
       "  <thead>\n",
       "    <tr style=\"text-align: right;\">\n",
       "      <th></th>\n",
       "      <th>JobRoleInterest</th>\n",
       "    </tr>\n",
       "  </thead>\n",
       "  <tbody>\n",
       "    <tr>\n",
       "      <th>NaN</th>\n",
       "      <td>61.53</td>\n",
       "    </tr>\n",
       "    <tr>\n",
       "      <th>Full-Stack Web Developer</th>\n",
       "      <td>4.53</td>\n",
       "    </tr>\n",
       "    <tr>\n",
       "      <th>Front-End Web Developer</th>\n",
       "      <td>2.48</td>\n",
       "    </tr>\n",
       "    <tr>\n",
       "      <th>Data Scientist</th>\n",
       "      <td>0.84</td>\n",
       "    </tr>\n",
       "    <tr>\n",
       "      <th>Back-End Web Developer</th>\n",
       "      <td>0.78</td>\n",
       "    </tr>\n",
       "    <tr>\n",
       "      <th>Mobile Developer</th>\n",
       "      <td>0.64</td>\n",
       "    </tr>\n",
       "    <tr>\n",
       "      <th>Game Developer</th>\n",
       "      <td>0.63</td>\n",
       "    </tr>\n",
       "    <tr>\n",
       "      <th>Information Security</th>\n",
       "      <td>0.51</td>\n",
       "    </tr>\n",
       "    <tr>\n",
       "      <th>Full-Stack Web Developer,   Front-End Web Developer</th>\n",
       "      <td>0.35</td>\n",
       "    </tr>\n",
       "    <tr>\n",
       "      <th>Front-End Web Developer, Full-Stack Web Developer</th>\n",
       "      <td>0.31</td>\n",
       "    </tr>\n",
       "    <tr>\n",
       "      <th>Product Manager</th>\n",
       "      <td>0.30</td>\n",
       "    </tr>\n",
       "    <tr>\n",
       "      <th>Data Engineer</th>\n",
       "      <td>0.29</td>\n",
       "    </tr>\n",
       "    <tr>\n",
       "      <th>User Experience Designer</th>\n",
       "      <td>0.29</td>\n",
       "    </tr>\n",
       "    <tr>\n",
       "      <th>User Experience Designer,   Front-End Web Developer</th>\n",
       "      <td>0.24</td>\n",
       "    </tr>\n",
       "    <tr>\n",
       "      <th>Front-End Web Developer, Back-End Web Developer, Full-Stack Web Developer</th>\n",
       "      <td>0.21</td>\n",
       "    </tr>\n",
       "    <tr>\n",
       "      <th>Back-End Web Developer,   Front-End Web Developer, Full-Stack Web Developer</th>\n",
       "      <td>0.20</td>\n",
       "    </tr>\n",
       "    <tr>\n",
       "      <th>Back-End Web Developer, Full-Stack Web Developer,   Front-End Web Developer</th>\n",
       "      <td>0.20</td>\n",
       "    </tr>\n",
       "    <tr>\n",
       "      <th>DevOps / SysAdmin</th>\n",
       "      <td>0.20</td>\n",
       "    </tr>\n",
       "    <tr>\n",
       "      <th>Full-Stack Web Developer,   Front-End Web Developer, Back-End Web Developer</th>\n",
       "      <td>0.17</td>\n",
       "    </tr>\n",
       "    <tr>\n",
       "      <th>Front-End Web Developer, Full-Stack Web Developer, Back-End Web Developer</th>\n",
       "      <td>0.17</td>\n",
       "    </tr>\n",
       "  </tbody>\n",
       "</table>\n",
       "</div>"
      ],
      "text/plain": [
       "                                                    JobRoleInterest\n",
       "NaN                                                           61.53\n",
       "Full-Stack Web Developer                                       4.53\n",
       "  Front-End Web Developer                                      2.48\n",
       "  Data Scientist                                               0.84\n",
       "Back-End Web Developer                                         0.78\n",
       "  Mobile Developer                                             0.64\n",
       "Game Developer                                                 0.63\n",
       "Information Security                                           0.51\n",
       "Full-Stack Web Developer,   Front-End Web Devel...             0.35\n",
       "  Front-End Web Developer, Full-Stack Web Devel...             0.31\n",
       "  Product Manager                                              0.30\n",
       "Data Engineer                                                  0.29\n",
       "  User Experience Designer                                     0.29\n",
       "  User Experience Designer,   Front-End Web Dev...             0.24\n",
       "  Front-End Web Developer, Back-End Web Develop...             0.21\n",
       "Back-End Web Developer,   Front-End Web Develop...             0.20\n",
       "Back-End Web Developer, Full-Stack Web Develope...             0.20\n",
       "  DevOps / SysAdmin                                            0.20\n",
       "Full-Stack Web Developer,   Front-End Web Devel...             0.17\n",
       "  Front-End Web Developer, Full-Stack Web Devel...             0.17"
      ]
     },
     "execution_count": 8,
     "metadata": {},
     "output_type": "execute_result"
    }
   ],
   "source": [
    "job_interest_freq = fcc_survey['JobRoleInterest'].value_counts(normalize = True, dropna = False)\n",
    "pd.DataFrame(round(job_interest_freq*100,2))[:20]"
   ]
  },
  {
   "cell_type": "code",
   "execution_count": 9,
   "metadata": {
    "collapsed": false
   },
   "outputs": [
    {
     "data": {
      "text/html": [
       "<div>\n",
       "<style scoped>\n",
       "    .dataframe tbody tr th:only-of-type {\n",
       "        vertical-align: middle;\n",
       "    }\n",
       "\n",
       "    .dataframe tbody tr th {\n",
       "        vertical-align: top;\n",
       "    }\n",
       "\n",
       "    .dataframe thead th {\n",
       "        text-align: right;\n",
       "    }\n",
       "</style>\n",
       "<table border=\"1\" class=\"dataframe\">\n",
       "  <thead>\n",
       "    <tr style=\"text-align: right;\">\n",
       "      <th></th>\n",
       "      <th>JobRoleInterest</th>\n",
       "    </tr>\n",
       "  </thead>\n",
       "  <tbody>\n",
       "    <tr>\n",
       "      <th>Full-Stack Web Developer</th>\n",
       "      <td>11.77</td>\n",
       "    </tr>\n",
       "    <tr>\n",
       "      <th>Front-End Web Developer</th>\n",
       "      <td>6.44</td>\n",
       "    </tr>\n",
       "    <tr>\n",
       "      <th>Data Scientist</th>\n",
       "      <td>2.17</td>\n",
       "    </tr>\n",
       "    <tr>\n",
       "      <th>Back-End Web Developer</th>\n",
       "      <td>2.03</td>\n",
       "    </tr>\n",
       "    <tr>\n",
       "      <th>Mobile Developer</th>\n",
       "      <td>1.67</td>\n",
       "    </tr>\n",
       "    <tr>\n",
       "      <th>Game Developer</th>\n",
       "      <td>1.63</td>\n",
       "    </tr>\n",
       "    <tr>\n",
       "      <th>Information Security</th>\n",
       "      <td>1.32</td>\n",
       "    </tr>\n",
       "    <tr>\n",
       "      <th>Full-Stack Web Developer,   Front-End Web Developer</th>\n",
       "      <td>0.92</td>\n",
       "    </tr>\n",
       "    <tr>\n",
       "      <th>Front-End Web Developer, Full-Stack Web Developer</th>\n",
       "      <td>0.80</td>\n",
       "    </tr>\n",
       "    <tr>\n",
       "      <th>Product Manager</th>\n",
       "      <td>0.79</td>\n",
       "    </tr>\n",
       "    <tr>\n",
       "      <th>Data Engineer</th>\n",
       "      <td>0.76</td>\n",
       "    </tr>\n",
       "    <tr>\n",
       "      <th>User Experience Designer</th>\n",
       "      <td>0.74</td>\n",
       "    </tr>\n",
       "    <tr>\n",
       "      <th>User Experience Designer,   Front-End Web Developer</th>\n",
       "      <td>0.61</td>\n",
       "    </tr>\n",
       "    <tr>\n",
       "      <th>Front-End Web Developer, Back-End Web Developer, Full-Stack Web Developer</th>\n",
       "      <td>0.56</td>\n",
       "    </tr>\n",
       "    <tr>\n",
       "      <th>DevOps / SysAdmin</th>\n",
       "      <td>0.51</td>\n",
       "    </tr>\n",
       "    <tr>\n",
       "      <th>Back-End Web Developer,   Front-End Web Developer, Full-Stack Web Developer</th>\n",
       "      <td>0.51</td>\n",
       "    </tr>\n",
       "    <tr>\n",
       "      <th>Back-End Web Developer, Full-Stack Web Developer,   Front-End Web Developer</th>\n",
       "      <td>0.51</td>\n",
       "    </tr>\n",
       "    <tr>\n",
       "      <th>Full-Stack Web Developer,   Front-End Web Developer, Back-End Web Developer</th>\n",
       "      <td>0.44</td>\n",
       "    </tr>\n",
       "    <tr>\n",
       "      <th>Front-End Web Developer, Full-Stack Web Developer, Back-End Web Developer</th>\n",
       "      <td>0.43</td>\n",
       "    </tr>\n",
       "    <tr>\n",
       "      <th>Front-End Web Developer,   User Experience Designer</th>\n",
       "      <td>0.41</td>\n",
       "    </tr>\n",
       "  </tbody>\n",
       "</table>\n",
       "</div>"
      ],
      "text/plain": [
       "                                                    JobRoleInterest\n",
       "Full-Stack Web Developer                                      11.77\n",
       "  Front-End Web Developer                                      6.44\n",
       "  Data Scientist                                               2.17\n",
       "Back-End Web Developer                                         2.03\n",
       "  Mobile Developer                                             1.67\n",
       "Game Developer                                                 1.63\n",
       "Information Security                                           1.32\n",
       "Full-Stack Web Developer,   Front-End Web Devel...             0.92\n",
       "  Front-End Web Developer, Full-Stack Web Devel...             0.80\n",
       "  Product Manager                                              0.79\n",
       "Data Engineer                                                  0.76\n",
       "  User Experience Designer                                     0.74\n",
       "  User Experience Designer,   Front-End Web Dev...             0.61\n",
       "  Front-End Web Developer, Back-End Web Develop...             0.56\n",
       "  DevOps / SysAdmin                                            0.51\n",
       "Back-End Web Developer,   Front-End Web Develop...             0.51\n",
       "Back-End Web Developer, Full-Stack Web Develope...             0.51\n",
       "Full-Stack Web Developer,   Front-End Web Devel...             0.44\n",
       "  Front-End Web Developer, Full-Stack Web Devel...             0.43\n",
       "  Front-End Web Developer,   User Experience De...             0.41"
      ]
     },
     "execution_count": 9,
     "metadata": {},
     "output_type": "execute_result"
    }
   ],
   "source": [
    "job_interest_freq_exNA = fcc_survey['JobRoleInterest'].value_counts(normalize = True)\n",
    "pd.DataFrame(round(job_interest_freq_exNA*100,2))[:20]"
   ]
  },
  {
   "cell_type": "markdown",
   "metadata": {},
   "source": [
    "It appears that most people did not repond in the survey with respect to their job interest. However, for those who did, we can observe that:\n",
    "\n",
    "1. Web developer was found overwhelmingly popular in the surveyed population. \n",
    "2. Some responses expressed interests in other jobs, including *Data Scientist*, *Mobile Developer*, and *Game Developer*. \n",
    "3. There were responses indicating interests in multiple fields and subjects."
   ]
  },
  {
   "cell_type": "markdown",
   "metadata": {},
   "source": [
    "We will primarily focus on ***Web Development*** and ***Mobile Development*** for our courses. "
   ]
  },
  {
   "cell_type": "code",
   "execution_count": 10,
   "metadata": {
    "collapsed": false
   },
   "outputs": [
    {
     "data": {
      "text/plain": [
       "1                             Full-Stack Web Developer\n",
       "2      Front-End Web Developer, Back-End Web Develo...\n",
       "3      Front-End Web Developer, Full-Stack Web Deve...\n",
       "4    Full-Stack Web Developer, Information Security...\n",
       "6                             Full-Stack Web Developer\n",
       "Name: JobRoleInterest, dtype: object"
      ]
     },
     "execution_count": 10,
     "metadata": {},
     "output_type": "execute_result"
    }
   ],
   "source": [
    "# First remove missing values\n",
    "\n",
    "interest_not_missing = fcc_survey['JobRoleInterest'].notnull()\n",
    "job_interest_exNA = fcc_survey.loc[interest_not_missing , 'JobRoleInterest'].copy()\n",
    "\n",
    "job_interest_exNA.head()"
   ]
  },
  {
   "cell_type": "code",
   "execution_count": 11,
   "metadata": {
    "collapsed": false
   },
   "outputs": [
    {
     "data": {
      "text/plain": [
       "True     86.270023\n",
       "False    13.729977\n",
       "Name: JobRoleInterest, dtype: float64"
      ]
     },
     "execution_count": 11,
     "metadata": {},
     "output_type": "execute_result"
    }
   ],
   "source": [
    "web_and_mobile = job_interest_exNA.str.contains(\n",
    "    'web developer|mobile developer', case = False).value_counts(normalize = True)*100\n",
    "web_and_mobile"
   ]
  },
  {
   "cell_type": "code",
   "execution_count": 12,
   "metadata": {
    "collapsed": false
   },
   "outputs": [
    {
     "data": {
      "text/plain": [
       "<matplotlib.text.Text at 0x7fc4c4291c88>"
      ]
     },
     "execution_count": 12,
     "metadata": {},
     "output_type": "execute_result"
    },
    {
     "data": {
      "image/png": "[encoded data removed]",
      "text/plain": [
       "<matplotlib.figure.Figure at 0x7fc50452e0b8>"
      ]
     },
     "metadata": {},
     "output_type": "display_data"
    }
   ],
   "source": [
    "%matplotlib inline\n",
    "\n",
    "web_and_mobile.index = ['Web/Mobile Development', 'Other Areas']\n",
    "web_and_mobile.plot.bar(rot = 0)\n",
    "\n",
    "plt.title('Percentages of Responses to Job Interests')\n",
    "plt.ylabel('Percentages (%)')"
   ]
  },
  {
   "cell_type": "code",
   "execution_count": 13,
   "metadata": {
    "collapsed": false
   },
   "outputs": [
    {
     "data": {
      "text/plain": [
       "3640     [  Front-End Web Developer, Back-End Web Devel...\n",
       "8683     [  DevOps / SysAdmin,   Data Scientist,   Fron...\n",
       "2662     [  Front-End Web Developer, Back-End Web Devel...\n",
       "6341          [Full-Stack Web Developer,   Data Scientist]\n",
       "4767     [  Front-End Web Developer,   Product Manager,...\n",
       "14921    [Data Engineer, Information Security, Back-End...\n",
       "2839     [  Front-End Web Developer, Full-Stack Web Dev...\n",
       "915      [  Data Scientist, Game Developer, Information...\n",
       "1525                    [Data Engineer,   Product Manager]\n",
       "6943                                      [Game Developer]\n",
       "Name: JobRoleInterest, dtype: object"
      ]
     },
     "execution_count": 13,
     "metadata": {},
     "output_type": "execute_result"
    }
   ],
   "source": [
    "# Note that the multiple job interests, if any, are separated by commas\n",
    "job_interest_exNA.str.split(', ').sample(10, random_state = 4)"
   ]
  },
  {
   "cell_type": "code",
   "execution_count": 14,
   "metadata": {
    "collapsed": false
   },
   "outputs": [
    {
     "data": {
      "text/plain": [
       "1     31.650458\n",
       "3     15.889588\n",
       "4     15.217391\n",
       "5     12.042334\n",
       "2     10.883867\n",
       "6      6.721968\n",
       "7      3.861556\n",
       "8      1.759153\n",
       "9      0.986842\n",
       "10     0.471968\n",
       "12     0.300343\n",
       "11     0.185927\n",
       "13     0.028604\n",
       "Name: JobRoleInterest, dtype: float64"
      ]
     },
     "execution_count": 14,
     "metadata": {},
     "output_type": "execute_result"
    }
   ],
   "source": [
    "# Note that the multiple job interests, if any, are separated by commas\n",
    "\n",
    "num_of_job_interested = job_interest_exNA.str.split(', ').apply(len).value_counts(normalize = True)*100\n",
    "num_of_job_interested"
   ]
  },
  {
   "cell_type": "code",
   "execution_count": 15,
   "metadata": {
    "collapsed": false
   },
   "outputs": [
    {
     "data": {
      "text/plain": [
       "<matplotlib.text.Text at 0x7fc4c41d53c8>"
      ]
     },
     "execution_count": 15,
     "metadata": {},
     "output_type": "execute_result"
    },
    {
     "data": {
      "image/png": "[encoded data removed]",
      "text/plain": [
       "<matplotlib.figure.Figure at 0x7fc4c048a710>"
      ]
     },
     "metadata": {},
     "output_type": "display_data"
    }
   ],
   "source": [
    "%matplotlib inline\n",
    "\n",
    "num_of_job_interested.sort_index().plot.bar(rot = 0)\n",
    "\n",
    "plt.title('Distribution in the Number of Fields of Interest')\n",
    "plt.xlabel('Number of Fields Interested')\n",
    "plt.ylabel('Percentages of Response (%)')"
   ]
  },
  {
   "cell_type": "markdown",
   "metadata": {},
   "source": [
    "In the above analysis, we found that:\n",
    "\n",
    "1. Over 85 % of the responses, if present, indicated interests in web or mobile development positions. Thus, the survey dataset should be considered relevant to our study. \n",
    "2. While most respondents (> 30 %) only expressed interest in one field, we should consider those with over one type of job interests as well provided that we are offering online education courses across multiple domains."
   ]
  },
  {
   "cell_type": "markdown",
   "metadata": {},
   "source": [
    "## New Coders - Locations and Densities"
   ]
  },
  {
   "cell_type": "markdown",
   "metadata": {
    "collapsed": true
   },
   "source": [
    "* To make sure you're working with a representative sample, drop all the rows where participants didn't answer what role they are interested in. Where a participant didn't respond, we can't know for sure what their interests are, so it's better if we leave out this category of participants.\n",
    "\n",
    "* Generate a frequency table for the `CountryLive` variable.\n",
    "    - Generate both absolute and relative frequencies.\n",
    "    - Analyze the results.\n",
    "    - Based on the results, what are the two markets you'd choose for advertisement?\n",
    "    - Can we stop the analysis here, or we need to go more in depth?"
   ]
  },
  {
   "cell_type": "code",
   "execution_count": 16,
   "metadata": {
    "collapsed": false
   },
   "outputs": [],
   "source": [
    "country_with_interest = fcc_survey.loc[interest_not_missing, 'CountryLive']\n",
    "absolute_country_freq = country_with_interest.value_counts()\n",
    "percentage_country_freq = round(country_with_interest.value_counts(normalize = True)*100,2)"
   ]
  },
  {
   "cell_type": "code",
   "execution_count": 17,
   "metadata": {
    "collapsed": false
   },
   "outputs": [
    {
     "data": {
      "text/plain": [
       "United States of America    3125\n",
       "India                        528\n",
       "United Kingdom               315\n",
       "Canada                       260\n",
       "Poland                       131\n",
       "Brazil                       129\n",
       "Germany                      125\n",
       "Australia                    112\n",
       "Russia                       102\n",
       "Ukraine                       89\n",
       "Name: CountryLive, dtype: int64"
      ]
     },
     "execution_count": 17,
     "metadata": {},
     "output_type": "execute_result"
    }
   ],
   "source": [
    "absolute_country_freq[:10]"
   ]
  },
  {
   "cell_type": "code",
   "execution_count": 18,
   "metadata": {
    "collapsed": false
   },
   "outputs": [
    {
     "data": {
      "text/plain": [
       "United States of America    45.70\n",
       "India                        7.72\n",
       "United Kingdom               4.61\n",
       "Canada                       3.80\n",
       "Poland                       1.92\n",
       "Brazil                       1.89\n",
       "Germany                      1.83\n",
       "Australia                    1.64\n",
       "Russia                       1.49\n",
       "Ukraine                      1.30\n",
       "Name: CountryLive, dtype: float64"
      ]
     },
     "execution_count": 18,
     "metadata": {},
     "output_type": "execute_result"
    }
   ],
   "source": [
    "percentage_country_freq[:10]"
   ]
  },
  {
   "cell_type": "code",
   "execution_count": 19,
   "metadata": {
    "collapsed": false
   },
   "outputs": [
    {
     "data": {
      "text/html": [
       "<div>\n",
       "<style scoped>\n",
       "    .dataframe tbody tr th:only-of-type {\n",
       "        vertical-align: middle;\n",
       "    }\n",
       "\n",
       "    .dataframe tbody tr th {\n",
       "        vertical-align: top;\n",
       "    }\n",
       "\n",
       "    .dataframe thead th {\n",
       "        text-align: right;\n",
       "    }\n",
       "</style>\n",
       "<table border=\"1\" class=\"dataframe\">\n",
       "  <thead>\n",
       "    <tr style=\"text-align: right;\">\n",
       "      <th></th>\n",
       "      <th>Absolute Counts</th>\n",
       "      <th>Percentages (%)</th>\n",
       "    </tr>\n",
       "  </thead>\n",
       "  <tbody>\n",
       "    <tr>\n",
       "      <th>United States of America</th>\n",
       "      <td>3125</td>\n",
       "      <td>45.70</td>\n",
       "    </tr>\n",
       "    <tr>\n",
       "      <th>India</th>\n",
       "      <td>528</td>\n",
       "      <td>7.72</td>\n",
       "    </tr>\n",
       "    <tr>\n",
       "      <th>United Kingdom</th>\n",
       "      <td>315</td>\n",
       "      <td>4.61</td>\n",
       "    </tr>\n",
       "    <tr>\n",
       "      <th>Canada</th>\n",
       "      <td>260</td>\n",
       "      <td>3.80</td>\n",
       "    </tr>\n",
       "    <tr>\n",
       "      <th>Poland</th>\n",
       "      <td>131</td>\n",
       "      <td>1.92</td>\n",
       "    </tr>\n",
       "    <tr>\n",
       "      <th>Brazil</th>\n",
       "      <td>129</td>\n",
       "      <td>1.89</td>\n",
       "    </tr>\n",
       "    <tr>\n",
       "      <th>Germany</th>\n",
       "      <td>125</td>\n",
       "      <td>1.83</td>\n",
       "    </tr>\n",
       "    <tr>\n",
       "      <th>Australia</th>\n",
       "      <td>112</td>\n",
       "      <td>1.64</td>\n",
       "    </tr>\n",
       "    <tr>\n",
       "      <th>Russia</th>\n",
       "      <td>102</td>\n",
       "      <td>1.49</td>\n",
       "    </tr>\n",
       "    <tr>\n",
       "      <th>Ukraine</th>\n",
       "      <td>89</td>\n",
       "      <td>1.30</td>\n",
       "    </tr>\n",
       "    <tr>\n",
       "      <th>Nigeria</th>\n",
       "      <td>84</td>\n",
       "      <td>1.23</td>\n",
       "    </tr>\n",
       "    <tr>\n",
       "      <th>Spain</th>\n",
       "      <td>77</td>\n",
       "      <td>1.13</td>\n",
       "    </tr>\n",
       "    <tr>\n",
       "      <th>France</th>\n",
       "      <td>75</td>\n",
       "      <td>1.10</td>\n",
       "    </tr>\n",
       "    <tr>\n",
       "      <th>Romania</th>\n",
       "      <td>71</td>\n",
       "      <td>1.04</td>\n",
       "    </tr>\n",
       "    <tr>\n",
       "      <th>Netherlands (Holland, Europe)</th>\n",
       "      <td>65</td>\n",
       "      <td>0.95</td>\n",
       "    </tr>\n",
       "    <tr>\n",
       "      <th>Italy</th>\n",
       "      <td>62</td>\n",
       "      <td>0.91</td>\n",
       "    </tr>\n",
       "    <tr>\n",
       "      <th>Philippines</th>\n",
       "      <td>52</td>\n",
       "      <td>0.76</td>\n",
       "    </tr>\n",
       "    <tr>\n",
       "      <th>Serbia</th>\n",
       "      <td>52</td>\n",
       "      <td>0.76</td>\n",
       "    </tr>\n",
       "    <tr>\n",
       "      <th>Greece</th>\n",
       "      <td>46</td>\n",
       "      <td>0.67</td>\n",
       "    </tr>\n",
       "    <tr>\n",
       "      <th>Ireland</th>\n",
       "      <td>43</td>\n",
       "      <td>0.63</td>\n",
       "    </tr>\n",
       "  </tbody>\n",
       "</table>\n",
       "</div>"
      ],
      "text/plain": [
       "                               Absolute Counts  Percentages (%)\n",
       "United States of America                  3125            45.70\n",
       "India                                      528             7.72\n",
       "United Kingdom                             315             4.61\n",
       "Canada                                     260             3.80\n",
       "Poland                                     131             1.92\n",
       "Brazil                                     129             1.89\n",
       "Germany                                    125             1.83\n",
       "Australia                                  112             1.64\n",
       "Russia                                     102             1.49\n",
       "Ukraine                                     89             1.30\n",
       "Nigeria                                     84             1.23\n",
       "Spain                                       77             1.13\n",
       "France                                      75             1.10\n",
       "Romania                                     71             1.04\n",
       "Netherlands (Holland, Europe)               65             0.95\n",
       "Italy                                       62             0.91\n",
       "Philippines                                 52             0.76\n",
       "Serbia                                      52             0.76\n",
       "Greece                                      46             0.67\n",
       "Ireland                                     43             0.63"
      ]
     },
     "execution_count": 19,
     "metadata": {},
     "output_type": "execute_result"
    }
   ],
   "source": [
    "country_live_freq_table = pd.DataFrame(\n",
    "    {'Absolute Counts': absolute_country_freq, \n",
    "     'Percentages (%)': percentage_country_freq})\n",
    "\n",
    "country_live_freq_table[:20]"
   ]
  },
  {
   "cell_type": "code",
   "execution_count": 20,
   "metadata": {
    "collapsed": false
   },
   "outputs": [
    {
     "data": {
      "image/png": "[encoded data removed]",
      "text/plain": [
       "<matplotlib.figure.Figure at 0x7fc4c423cf98>"
      ]
     },
     "metadata": {},
     "output_type": "display_data"
    }
   ],
   "source": [
    "%matplotlib inline\n",
    "\n",
    "countries = country_live_freq_table.index\n",
    "pie_labels = [c if country_live_freq_table.loc[c,'Percentages (%)'] > 1.8 else '' for c in countries]\n",
    " \n",
    "fig, ax = plt.subplots(figsize = (7,7))\n",
    "\n",
    "def my_autopct(pct):\n",
    "    return ('%.1f' % pct) if pct > 1.8 else ''\n",
    "\n",
    "ax.pie(country_live_freq_table['Percentages (%)'], labels = pie_labels, autopct = my_autopct)\n",
    "plt.show()\n"
   ]
  },
  {
   "cell_type": "markdown",
   "metadata": {},
   "source": [
    "Based on these results, over 40 % of those expressed job interests were residing in the *United States*, making it undoubtedly the primary target for advertising. \n",
    "The second largest market was *India*, but only with a percentage of 7.7 %, which was far lower than that of the *United States* and not substantially different from the latter countries (i.e., *United Kingdom* & *Canada*). "
   ]
  },
  {
   "cell_type": "markdown",
   "metadata": {},
   "source": [
    "## Spending Money for Learning"
   ]
  },
  {
   "cell_type": "markdown",
   "metadata": {},
   "source": [
    "Previously, we found useful information about the location of new coders, and what are the countries where new coders live, but we need to go more in depth with our analysis before taking a decision. We can continue by figuring out how much money new coders are actually willing to spend on learning. Advertising within markets where most people are only willing to learn for free is extremely unlikely to be profitable for us.\n",
    "\n",
    "The `MoneyForLearning` column describes in American dollars the amount of money spent by participants from the moment they started coding until the moment they completed the survey. Our company sells subscriptions at a price of $59 per month, and for this reason we're interested in finding out how much money each student spends per month.\n",
    "\n",
    "It also seems like a good idea to narrow down our analysis to only four countries: the US, India, the United Kingdom, and Canada. Two reasons for this decision are:\n",
    "\n",
    "- These are the countries having the highest absolute frequencies in our sample, which means we have a decent amount of data for each.\n",
    "- Our courses are written in English, and English is an official language in all these four countries. The more people that know English, the better our chances to target the right people with our ads."
   ]
  },
  {
   "cell_type": "markdown",
   "metadata": {},
   "source": [
    "***Tasks:***\n",
    "\n",
    "- Create a new column that describes the amount of money a student has spent per month (at the moment they completed the survey).\n",
    "    * You'll need to divide the `MoneyForLearning` column to the `MonthsProgramming` column.\n",
    "    * Some students answered that they had been learning to code for 0 months (it might be that they had just started when they completed the survey). To avoid dividing by 0, replace all the values of 0 with 1.\n",
    "    \n",
    "- Find out how many null values there are in the new column (the column describing the amount of money students spend per month).\n",
    "\n",
    "- Keep only the rows that don't have a null value for the new column.\n",
    "\n",
    "- Remove also any rows that have null values in the CountryLive column.\n",
    "\n",
    "- Group the remaining data by the CountryLive column and find out how much money a student spends on average each month in the US, India, the United Kingdom and Canada.\n",
    "\n",
    "    * You can use the DataFrame.groupby() method.\n",
    "    * As a summary metric, we recommend choosing the mean to take into account all values in the distributions. You can also compute the median or the mode to see how they compare with the mean.\n",
    "    * Analyze the results. Is there anything in the results that looks off?"
   ]
  },
  {
   "cell_type": "code",
   "execution_count": 21,
   "metadata": {
    "collapsed": false
   },
   "outputs": [
    {
     "data": {
      "text/plain": [
       " 1.0     1697\n",
       " 12.0    1497\n",
       " 2.0     1338\n",
       " 3.0     1333\n",
       " 6.0     1330\n",
       " 24.0    1191\n",
       "NaN      1091\n",
       " 36.0     863\n",
       " 4.0      732\n",
       " 5.0      621\n",
       " 0.0      578\n",
       " 48.0     520\n",
       " 18.0     465\n",
       " 8.0      451\n",
       " 60.0     380\n",
       " 10.0     357\n",
       "Name: MonthsProgramming, dtype: int64"
      ]
     },
     "execution_count": 21,
     "metadata": {},
     "output_type": "execute_result"
    }
   ],
   "source": [
    "# There are both missing values and 0 months\n",
    "fcc_survey['MonthsProgramming'].value_counts(dropna = False)[:10]"
   ]
  },
  {
   "cell_type": "code",
   "execution_count": 22,
   "metadata": {
    "collapsed": false
   },
   "outputs": [
    {
     "data": {
      "text/plain": [
       " 1.0     2275\n",
       " 12.0    1497\n",
       " 2.0     1338\n",
       " 3.0     1333\n",
       " 6.0     1330\n",
       " 24.0    1191\n",
       "NaN      1091\n",
       " 36.0     863\n",
       " 4.0      732\n",
       " 5.0      621\n",
       " 48.0     520\n",
       " 18.0     465\n",
       " 8.0      451\n",
       " 60.0     380\n",
       " 10.0     357\n",
       "Name: MonthsProgramming, dtype: int64"
      ]
     },
     "execution_count": 22,
     "metadata": {},
     "output_type": "execute_result"
    }
   ],
   "source": [
    "fcc_survey['MonthsProgramming'].replace({0:1}, inplace = True)\n",
    "fcc_survey['MonthsProgramming'].value_counts(dropna = False)[:10]"
   ]
  },
  {
   "cell_type": "code",
   "execution_count": 23,
   "metadata": {
    "collapsed": false
   },
   "outputs": [
    {
     "data": {
      "text/plain": [
       "1995"
      ]
     },
     "execution_count": 23,
     "metadata": {},
     "output_type": "execute_result"
    }
   ],
   "source": [
    "fcc_survey['monthly_spending'] = fcc_survey['MoneyForLearning']/fcc_survey['MonthsProgramming']\n",
    "fcc_survey['monthly_spending'].isnull().sum()"
   ]
  },
  {
   "cell_type": "code",
   "execution_count": 24,
   "metadata": {
    "collapsed": false
   },
   "outputs": [
    {
     "data": {
      "text/plain": [
       "United States of America    3125\n",
       "India                        528\n",
       "United Kingdom               315\n",
       "Canada                       260\n",
       "Name: CountryLive, dtype: int64"
      ]
     },
     "execution_count": 24,
     "metadata": {},
     "output_type": "execute_result"
    }
   ],
   "source": [
    "top_four = ['United States of America', 'India', 'United Kingdom', 'Canada']\n",
    "country_mask = fcc_survey['CountryLive'].isin(top_four)\n",
    "\n",
    "fcc_survey.loc[interest_not_missing & country_mask, 'CountryLive'].value_counts()"
   ]
  },
  {
   "cell_type": "code",
   "execution_count": 25,
   "metadata": {
    "collapsed": false
   },
   "outputs": [
    {
     "data": {
      "text/plain": [
       "313"
      ]
     },
     "execution_count": 25,
     "metadata": {},
     "output_type": "execute_result"
    }
   ],
   "source": [
    "# There are still missing values for the four countries we are interested in.\n",
    "fcc_survey.loc[interest_not_missing & country_mask, 'monthly_spending'].isnull().sum()"
   ]
  },
  {
   "cell_type": "code",
   "execution_count": 26,
   "metadata": {
    "collapsed": false
   },
   "outputs": [
    {
     "data": {
      "text/html": [
       "<div>\n",
       "<style scoped>\n",
       "    .dataframe tbody tr th:only-of-type {\n",
       "        vertical-align: middle;\n",
       "    }\n",
       "\n",
       "    .dataframe tbody tr th {\n",
       "        vertical-align: top;\n",
       "    }\n",
       "\n",
       "    .dataframe thead th {\n",
       "        text-align: right;\n",
       "    }\n",
       "</style>\n",
       "<table border=\"1\" class=\"dataframe\">\n",
       "  <thead>\n",
       "    <tr style=\"text-align: right;\">\n",
       "      <th></th>\n",
       "      <th>Age</th>\n",
       "      <th>AttendedBootcamp</th>\n",
       "      <th>BootcampFinish</th>\n",
       "      <th>BootcampLoanYesNo</th>\n",
       "      <th>BootcampName</th>\n",
       "      <th>BootcampRecommend</th>\n",
       "      <th>ChildrenNumber</th>\n",
       "      <th>CityPopulation</th>\n",
       "      <th>CodeEventConferences</th>\n",
       "      <th>CodeEventDjangoGirls</th>\n",
       "      <th>...</th>\n",
       "      <th>YouTubeFunFunFunction</th>\n",
       "      <th>YouTubeGoogleDev</th>\n",
       "      <th>YouTubeLearnCode</th>\n",
       "      <th>YouTubeLevelUpTuts</th>\n",
       "      <th>YouTubeMIT</th>\n",
       "      <th>YouTubeMozillaHacks</th>\n",
       "      <th>YouTubeOther</th>\n",
       "      <th>YouTubeSimplilearn</th>\n",
       "      <th>YouTubeTheNewBoston</th>\n",
       "      <th>monthly_spending</th>\n",
       "    </tr>\n",
       "  </thead>\n",
       "  <tbody>\n",
       "    <tr>\n",
       "      <th>5136</th>\n",
       "      <td>26.0</td>\n",
       "      <td>0.0</td>\n",
       "      <td>NaN</td>\n",
       "      <td>NaN</td>\n",
       "      <td>NaN</td>\n",
       "      <td>NaN</td>\n",
       "      <td>NaN</td>\n",
       "      <td>between 100,000 and 1 million</td>\n",
       "      <td>NaN</td>\n",
       "      <td>NaN</td>\n",
       "      <td>...</td>\n",
       "      <td>NaN</td>\n",
       "      <td>1.0</td>\n",
       "      <td>NaN</td>\n",
       "      <td>NaN</td>\n",
       "      <td>NaN</td>\n",
       "      <td>NaN</td>\n",
       "      <td>NaN</td>\n",
       "      <td>NaN</td>\n",
       "      <td>1.0</td>\n",
       "      <td>100.000000</td>\n",
       "    </tr>\n",
       "    <tr>\n",
       "      <th>13884</th>\n",
       "      <td>29.0</td>\n",
       "      <td>0.0</td>\n",
       "      <td>NaN</td>\n",
       "      <td>NaN</td>\n",
       "      <td>NaN</td>\n",
       "      <td>NaN</td>\n",
       "      <td>NaN</td>\n",
       "      <td>less than 100,000</td>\n",
       "      <td>NaN</td>\n",
       "      <td>NaN</td>\n",
       "      <td>...</td>\n",
       "      <td>NaN</td>\n",
       "      <td>NaN</td>\n",
       "      <td>NaN</td>\n",
       "      <td>NaN</td>\n",
       "      <td>NaN</td>\n",
       "      <td>NaN</td>\n",
       "      <td>NaN</td>\n",
       "      <td>NaN</td>\n",
       "      <td>1.0</td>\n",
       "      <td>0.000000</td>\n",
       "    </tr>\n",
       "    <tr>\n",
       "      <th>17888</th>\n",
       "      <td>35.0</td>\n",
       "      <td>0.0</td>\n",
       "      <td>NaN</td>\n",
       "      <td>NaN</td>\n",
       "      <td>NaN</td>\n",
       "      <td>NaN</td>\n",
       "      <td>3.0</td>\n",
       "      <td>between 100,000 and 1 million</td>\n",
       "      <td>NaN</td>\n",
       "      <td>NaN</td>\n",
       "      <td>...</td>\n",
       "      <td>NaN</td>\n",
       "      <td>1.0</td>\n",
       "      <td>NaN</td>\n",
       "      <td>NaN</td>\n",
       "      <td>1.0</td>\n",
       "      <td>NaN</td>\n",
       "      <td>NaN</td>\n",
       "      <td>NaN</td>\n",
       "      <td>NaN</td>\n",
       "      <td>33.333333</td>\n",
       "    </tr>\n",
       "    <tr>\n",
       "      <th>9569</th>\n",
       "      <td>36.0</td>\n",
       "      <td>0.0</td>\n",
       "      <td>NaN</td>\n",
       "      <td>NaN</td>\n",
       "      <td>NaN</td>\n",
       "      <td>NaN</td>\n",
       "      <td>NaN</td>\n",
       "      <td>more than 1 million</td>\n",
       "      <td>NaN</td>\n",
       "      <td>NaN</td>\n",
       "      <td>...</td>\n",
       "      <td>1.0</td>\n",
       "      <td>NaN</td>\n",
       "      <td>1.0</td>\n",
       "      <td>NaN</td>\n",
       "      <td>NaN</td>\n",
       "      <td>NaN</td>\n",
       "      <td>NaN</td>\n",
       "      <td>NaN</td>\n",
       "      <td>NaN</td>\n",
       "      <td>8.333333</td>\n",
       "    </tr>\n",
       "    <tr>\n",
       "      <th>7963</th>\n",
       "      <td>33.0</td>\n",
       "      <td>0.0</td>\n",
       "      <td>NaN</td>\n",
       "      <td>NaN</td>\n",
       "      <td>NaN</td>\n",
       "      <td>NaN</td>\n",
       "      <td>NaN</td>\n",
       "      <td>between 100,000 and 1 million</td>\n",
       "      <td>NaN</td>\n",
       "      <td>NaN</td>\n",
       "      <td>...</td>\n",
       "      <td>1.0</td>\n",
       "      <td>NaN</td>\n",
       "      <td>NaN</td>\n",
       "      <td>NaN</td>\n",
       "      <td>NaN</td>\n",
       "      <td>NaN</td>\n",
       "      <td>NaN</td>\n",
       "      <td>NaN</td>\n",
       "      <td>1.0</td>\n",
       "      <td>18.181818</td>\n",
       "    </tr>\n",
       "  </tbody>\n",
       "</table>\n",
       "<p>5 rows × 137 columns</p>\n",
       "</div>"
      ],
      "text/plain": [
       "        Age  AttendedBootcamp  BootcampFinish  BootcampLoanYesNo BootcampName  \\\n",
       "5136   26.0               0.0             NaN                NaN          NaN   \n",
       "13884  29.0               0.0             NaN                NaN          NaN   \n",
       "17888  35.0               0.0             NaN                NaN          NaN   \n",
       "9569   36.0               0.0             NaN                NaN          NaN   \n",
       "7963   33.0               0.0             NaN                NaN          NaN   \n",
       "\n",
       "       BootcampRecommend  ChildrenNumber                 CityPopulation  \\\n",
       "5136                 NaN             NaN  between 100,000 and 1 million   \n",
       "13884                NaN             NaN              less than 100,000   \n",
       "17888                NaN             3.0  between 100,000 and 1 million   \n",
       "9569                 NaN             NaN            more than 1 million   \n",
       "7963                 NaN             NaN  between 100,000 and 1 million   \n",
       "\n",
       "       CodeEventConferences  CodeEventDjangoGirls        ...         \\\n",
       "5136                    NaN                   NaN        ...          \n",
       "13884                   NaN                   NaN        ...          \n",
       "17888                   NaN                   NaN        ...          \n",
       "9569                    NaN                   NaN        ...          \n",
       "7963                    NaN                   NaN        ...          \n",
       "\n",
       "       YouTubeFunFunFunction  YouTubeGoogleDev  YouTubeLearnCode  \\\n",
       "5136                     NaN               1.0               NaN   \n",
       "13884                    NaN               NaN               NaN   \n",
       "17888                    NaN               1.0               NaN   \n",
       "9569                     1.0               NaN               1.0   \n",
       "7963                     1.0               NaN               NaN   \n",
       "\n",
       "       YouTubeLevelUpTuts  YouTubeMIT  YouTubeMozillaHacks  YouTubeOther  \\\n",
       "5136                  NaN         NaN                  NaN           NaN   \n",
       "13884                 NaN         NaN                  NaN           NaN   \n",
       "17888                 NaN         1.0                  NaN           NaN   \n",
       "9569                  NaN         NaN                  NaN           NaN   \n",
       "7963                  NaN         NaN                  NaN           NaN   \n",
       "\n",
       "      YouTubeSimplilearn  YouTubeTheNewBoston  monthly_spending  \n",
       "5136                 NaN                  1.0        100.000000  \n",
       "13884                NaN                  1.0          0.000000  \n",
       "17888                NaN                  NaN         33.333333  \n",
       "9569                 NaN                  NaN          8.333333  \n",
       "7963                 NaN                  1.0         18.181818  \n",
       "\n",
       "[5 rows x 137 columns]"
      ]
     },
     "execution_count": 26,
     "metadata": {},
     "output_type": "execute_result"
    }
   ],
   "source": [
    "spending_mask = fcc_survey['monthly_spending'].notnull()\n",
    "\n",
    "spending_by_country = fcc_survey[interest_not_missing & country_mask & spending_mask].copy()\n",
    "spending_by_country.sample(5, random_state = 3)"
   ]
  },
  {
   "cell_type": "code",
   "execution_count": 27,
   "metadata": {
    "collapsed": false
   },
   "outputs": [
    {
     "data": {
      "text/html": [
       "<div>\n",
       "<style scoped>\n",
       "    .dataframe tbody tr th:only-of-type {\n",
       "        vertical-align: middle;\n",
       "    }\n",
       "\n",
       "    .dataframe tbody tr th {\n",
       "        vertical-align: top;\n",
       "    }\n",
       "\n",
       "    .dataframe thead th {\n",
       "        text-align: right;\n",
       "    }\n",
       "</style>\n",
       "<table border=\"1\" class=\"dataframe\">\n",
       "  <thead>\n",
       "    <tr style=\"text-align: right;\">\n",
       "      <th></th>\n",
       "      <th>mean</th>\n",
       "      <th>median</th>\n",
       "      <th>mode</th>\n",
       "    </tr>\n",
       "    <tr>\n",
       "      <th>CountryLive</th>\n",
       "      <th></th>\n",
       "      <th></th>\n",
       "      <th></th>\n",
       "    </tr>\n",
       "  </thead>\n",
       "  <tbody>\n",
       "    <tr>\n",
       "      <th>United States of America</th>\n",
       "      <td>228.00</td>\n",
       "      <td>3.33</td>\n",
       "      <td>0.0</td>\n",
       "    </tr>\n",
       "    <tr>\n",
       "      <th>India</th>\n",
       "      <td>135.10</td>\n",
       "      <td>0.00</td>\n",
       "      <td>0.0</td>\n",
       "    </tr>\n",
       "    <tr>\n",
       "      <th>Canada</th>\n",
       "      <td>113.51</td>\n",
       "      <td>0.00</td>\n",
       "      <td>0.0</td>\n",
       "    </tr>\n",
       "    <tr>\n",
       "      <th>United Kingdom</th>\n",
       "      <td>45.53</td>\n",
       "      <td>0.00</td>\n",
       "      <td>0.0</td>\n",
       "    </tr>\n",
       "  </tbody>\n",
       "</table>\n",
       "</div>"
      ],
      "text/plain": [
       "                            mean  median  mode\n",
       "CountryLive                                   \n",
       "United States of America  228.00    3.33   0.0\n",
       "India                     135.10    0.00   0.0\n",
       "Canada                    113.51    0.00   0.0\n",
       "United Kingdom             45.53    0.00   0.0"
      ]
     },
     "execution_count": 27,
     "metadata": {},
     "output_type": "execute_result"
    }
   ],
   "source": [
    "# The median and mode did not give useful information due to large presence of free-learners.\n",
    "\n",
    "from statistics import mean, median, mode\n",
    "\n",
    "spending_by_country.groupby('CountryLive')['monthly_spending'].agg(\n",
    "    [mean, median, mode]).sort_values('mean', ascending = False).applymap(lambda x: round(x,2))"
   ]
  },
  {
   "cell_type": "markdown",
   "metadata": {},
   "source": [
    "##  Dealing with Extreme Outliers"
   ]
  },
  {
   "cell_type": "markdown",
   "metadata": {},
   "source": [
    "The results for the United Kingdom and Canada are surprisingly low relative to the values we see for India. If we considered a few socio-economical metrics (like GDP per capita), we'd intuitively expect people in the UK and Canada to spend more on learning than people in India.\n",
    "\n",
    "It might be that we don't have have enough representative data for the United Kingdom, Canada, and India, or we have some outliers (maybe coming from wrong survey answers) making the mean too big for India, or too low for the UK and Canada. Or it might be that the results are correct."
   ]
  },
  {
   "cell_type": "markdown",
   "metadata": {},
   "source": [
    "- Generate four box plots on the same figure to visualize for each country (the US, India, the United Kingdom, Canada) the distribution of the variable that describes how much money each participant had spent per month.\n",
    "\n",
    "    * Can you spot extreme outliers for India, Canada or the United Kingdom?\n",
    "    * If not, what extreme outliers can you spot?\n",
    "    \n",
    "- Eliminate the extreme outliers.\n",
    "\n",
    "- Recompute the mean values, just like we did in the previous screen: group the data by the `CountryLive` column, and then find out how much money a student spends on average each month in the US, India, the United Kingdom and Canada.\n",
    "\n",
    "    * If the mean values still look off, look more for extreme outliers. For instance, you can find a couple of persons in India who spend \\$5000 per month. Isolate these respondents and examine their answers to other questions in the survey to figure out whether these big expenses with learning are justified — you can try to find out whether they attended any bootcamp, which might justify the large amount of money spent.\n",
    "    * If you find more extreme outliers, remove them, and recompute the mean values.\n",
    "    * If you get stuck, you can always sneak a look at the solution notebook.\n",
    "    \n",
    "- Is it clear enough at this point what are the two best countries to choose for advertisement?"
   ]
  },
  {
   "cell_type": "code",
   "execution_count": 28,
   "metadata": {
    "collapsed": false
   },
   "outputs": [
    {
     "name": "stderr",
     "output_type": "stream",
     "text": [
      "/dataquest/system/env/python3/lib/python3.4/site-packages/seaborn/categorical.py:454: FutureWarning:\n",
      "\n",
      "remove_na is deprecated and is a private function. Do not use.\n",
      "\n"
     ]
    },
    {
     "data": {
      "text/plain": [
       "<matplotlib.text.Text at 0x7fc4c2230d68>"
      ]
     },
     "execution_count": 28,
     "metadata": {},
     "output_type": "execute_result"
    },
    {
     "data": {
      "image/png": "[encoded data removed]",
      "text/plain": [
       "<matplotlib.figure.Figure at 0x7fc4c41a9a58>"
      ]
     },
     "metadata": {},
     "output_type": "display_data"
    }
   ],
   "source": [
    "from seaborn import boxplot\n",
    "\n",
    "boxplot(data = spending_by_country, x = 'CountryLive', y = 'monthly_spending')\n",
    "plt.title('Distribution of monthly spendings on bootcamps\\nfor the top 4 countries')"
   ]
  },
  {
   "cell_type": "markdown",
   "metadata": {},
   "source": [
    "While we spotted a few higher spending values from the UK, India and Canada, there was no strong evidence suggesting they were necessarily outliers that needed to be removed, comparing to those values in the US. However, one might immediately observe that there were two extremely high spending values - \\$50000 & \\$80000/month, which was unlikely reasonable. Thus, we decided to remove them from the dataset."
   ]
  },
  {
   "cell_type": "code",
   "execution_count": 29,
   "metadata": {
    "collapsed": false
   },
   "outputs": [
    {
     "data": {
      "text/plain": [
       "count     3913.000000\n",
       "mean       163.868289\n",
       "std        795.057588\n",
       "min          0.000000\n",
       "25%          0.000000\n",
       "50%          2.000000\n",
       "75%         38.461538\n",
       "max      16666.666667\n",
       "Name: monthly_spending, dtype: float64"
      ]
     },
     "execution_count": 29,
     "metadata": {},
     "output_type": "execute_result"
    }
   ],
   "source": [
    "spending_by_country_cleaned = spending_by_country[spending_by_country.monthly_spending < 30000].copy()\n",
    "spending_by_country_cleaned['monthly_spending'].describe()"
   ]
  },
  {
   "cell_type": "code",
   "execution_count": 30,
   "metadata": {
    "collapsed": false
   },
   "outputs": [
    {
     "data": {
      "text/html": [
       "<div>\n",
       "<style scoped>\n",
       "    .dataframe tbody tr th:only-of-type {\n",
       "        vertical-align: middle;\n",
       "    }\n",
       "\n",
       "    .dataframe tbody tr th {\n",
       "        vertical-align: top;\n",
       "    }\n",
       "\n",
       "    .dataframe thead th {\n",
       "        text-align: right;\n",
       "    }\n",
       "</style>\n",
       "<table border=\"1\" class=\"dataframe\">\n",
       "  <thead>\n",
       "    <tr style=\"text-align: right;\">\n",
       "      <th></th>\n",
       "      <th>mean</th>\n",
       "      <th>median</th>\n",
       "      <th>mode</th>\n",
       "    </tr>\n",
       "    <tr>\n",
       "      <th>CountryLive</th>\n",
       "      <th></th>\n",
       "      <th></th>\n",
       "      <th></th>\n",
       "    </tr>\n",
       "  </thead>\n",
       "  <tbody>\n",
       "    <tr>\n",
       "      <th>United States of America</th>\n",
       "      <td>183.80</td>\n",
       "      <td>3.33</td>\n",
       "      <td>0.0</td>\n",
       "    </tr>\n",
       "    <tr>\n",
       "      <th>India</th>\n",
       "      <td>135.10</td>\n",
       "      <td>0.00</td>\n",
       "      <td>0.0</td>\n",
       "    </tr>\n",
       "    <tr>\n",
       "      <th>Canada</th>\n",
       "      <td>113.51</td>\n",
       "      <td>0.00</td>\n",
       "      <td>0.0</td>\n",
       "    </tr>\n",
       "    <tr>\n",
       "      <th>United Kingdom</th>\n",
       "      <td>45.53</td>\n",
       "      <td>0.00</td>\n",
       "      <td>0.0</td>\n",
       "    </tr>\n",
       "  </tbody>\n",
       "</table>\n",
       "</div>"
      ],
      "text/plain": [
       "                            mean  median  mode\n",
       "CountryLive                                   \n",
       "United States of America  183.80    3.33   0.0\n",
       "India                     135.10    0.00   0.0\n",
       "Canada                    113.51    0.00   0.0\n",
       "United Kingdom             45.53    0.00   0.0"
      ]
     },
     "execution_count": 30,
     "metadata": {},
     "output_type": "execute_result"
    }
   ],
   "source": [
    "spending_by_country_cleaned.groupby('CountryLive')['monthly_spending'].agg(\n",
    "    [mean, median, mode]).sort_values('mean', ascending = False).applymap(lambda x: round(x,2))"
   ]
  },
  {
   "cell_type": "code",
   "execution_count": 31,
   "metadata": {
    "collapsed": false
   },
   "outputs": [
    {
     "name": "stderr",
     "output_type": "stream",
     "text": [
      "/dataquest/system/env/python3/lib/python3.4/site-packages/seaborn/categorical.py:454: FutureWarning:\n",
      "\n",
      "remove_na is deprecated and is a private function. Do not use.\n",
      "\n"
     ]
    },
    {
     "data": {
      "text/plain": [
       "<matplotlib.text.Text at 0x7fc4c09804e0>"
      ]
     },
     "execution_count": 31,
     "metadata": {},
     "output_type": "execute_result"
    },
    {
     "data": {
      "image/png": "[encoded data removed]",
      "text/plain": [
       "<matplotlib.figure.Figure at 0x7fc50452e0f0>"
      ]
     },
     "metadata": {},
     "output_type": "display_data"
    }
   ],
   "source": [
    "boxplot(data = spending_by_country_cleaned, x = 'CountryLive', y = 'monthly_spending')\n",
    "plt.title('Distribution of monthly spendings on bootcamps\\nfor the top 4 countries (outliers removed)')"
   ]
  },
  {
   "cell_type": "code",
   "execution_count": 32,
   "metadata": {
    "collapsed": true
   },
   "outputs": [],
   "source": [
    "# helper function to remove empty columns for an easy view\n",
    "\n",
    "def col_filter(df):\n",
    "    \n",
    "    cols = df.columns\n",
    "    useful_cols = []\n",
    "    \n",
    "    for col in cols:\n",
    "        \n",
    "        if df[col].notnull().sum() > 0: useful_cols.append(col)\n",
    "    \n",
    "    return df[useful_cols]"
   ]
  },
  {
   "cell_type": "code",
   "execution_count": 33,
   "metadata": {
    "collapsed": false
   },
   "outputs": [
    {
     "data": {
      "text/html": [
       "<div>\n",
       "<style scoped>\n",
       "    .dataframe tbody tr th:only-of-type {\n",
       "        vertical-align: middle;\n",
       "    }\n",
       "\n",
       "    .dataframe tbody tr th {\n",
       "        vertical-align: top;\n",
       "    }\n",
       "\n",
       "    .dataframe thead th {\n",
       "        text-align: right;\n",
       "    }\n",
       "</style>\n",
       "<table border=\"1\" class=\"dataframe\">\n",
       "  <thead>\n",
       "    <tr style=\"text-align: right;\">\n",
       "      <th></th>\n",
       "      <th>Age</th>\n",
       "      <th>AttendedBootcamp</th>\n",
       "      <th>CityPopulation</th>\n",
       "      <th>CodeEventConferences</th>\n",
       "      <th>CodeEventGameJam</th>\n",
       "      <th>CodeEventHackathons</th>\n",
       "      <th>CodeEventNone</th>\n",
       "      <th>CodeEventWorkshops</th>\n",
       "      <th>CommuteTime</th>\n",
       "      <th>CountryCitizen</th>\n",
       "      <th>...</th>\n",
       "      <th>ResourceW3S</th>\n",
       "      <th>SchoolDegree</th>\n",
       "      <th>SchoolMajor</th>\n",
       "      <th>StudentDebtOwe</th>\n",
       "      <th>YouTubeFCC</th>\n",
       "      <th>YouTubeGoogleDev</th>\n",
       "      <th>YouTubeLearnCode</th>\n",
       "      <th>YouTubeMIT</th>\n",
       "      <th>YouTubeTheNewBoston</th>\n",
       "      <th>monthly_spending</th>\n",
       "    </tr>\n",
       "  </thead>\n",
       "  <tbody>\n",
       "    <tr>\n",
       "      <th>1728</th>\n",
       "      <td>24.0</td>\n",
       "      <td>0.0</td>\n",
       "      <td>between 100,000 and 1 million</td>\n",
       "      <td>NaN</td>\n",
       "      <td>1.0</td>\n",
       "      <td>NaN</td>\n",
       "      <td>NaN</td>\n",
       "      <td>NaN</td>\n",
       "      <td>NaN</td>\n",
       "      <td>India</td>\n",
       "      <td>...</td>\n",
       "      <td>1.0</td>\n",
       "      <td>bachelor's degree</td>\n",
       "      <td>Computer Programming</td>\n",
       "      <td>NaN</td>\n",
       "      <td>1.0</td>\n",
       "      <td>NaN</td>\n",
       "      <td>NaN</td>\n",
       "      <td>NaN</td>\n",
       "      <td>NaN</td>\n",
       "      <td>5000.000000</td>\n",
       "    </tr>\n",
       "    <tr>\n",
       "      <th>7989</th>\n",
       "      <td>28.0</td>\n",
       "      <td>0.0</td>\n",
       "      <td>between 100,000 and 1 million</td>\n",
       "      <td>1.0</td>\n",
       "      <td>NaN</td>\n",
       "      <td>NaN</td>\n",
       "      <td>NaN</td>\n",
       "      <td>1.0</td>\n",
       "      <td>15 to 29 minutes</td>\n",
       "      <td>India</td>\n",
       "      <td>...</td>\n",
       "      <td>NaN</td>\n",
       "      <td>bachelor's degree</td>\n",
       "      <td>Aerospace and Aeronautical Engineering</td>\n",
       "      <td>2500.0</td>\n",
       "      <td>1.0</td>\n",
       "      <td>NaN</td>\n",
       "      <td>NaN</td>\n",
       "      <td>NaN</td>\n",
       "      <td>NaN</td>\n",
       "      <td>5000.000000</td>\n",
       "    </tr>\n",
       "    <tr>\n",
       "      <th>8126</th>\n",
       "      <td>22.0</td>\n",
       "      <td>0.0</td>\n",
       "      <td>more than 1 million</td>\n",
       "      <td>NaN</td>\n",
       "      <td>1.0</td>\n",
       "      <td>1.0</td>\n",
       "      <td>NaN</td>\n",
       "      <td>NaN</td>\n",
       "      <td>NaN</td>\n",
       "      <td>India</td>\n",
       "      <td>...</td>\n",
       "      <td>NaN</td>\n",
       "      <td>bachelor's degree</td>\n",
       "      <td>Electrical and Electronics Engineering</td>\n",
       "      <td>10000.0</td>\n",
       "      <td>NaN</td>\n",
       "      <td>1.0</td>\n",
       "      <td>NaN</td>\n",
       "      <td>1.0</td>\n",
       "      <td>1.0</td>\n",
       "      <td>5000.000000</td>\n",
       "    </tr>\n",
       "    <tr>\n",
       "      <th>13398</th>\n",
       "      <td>19.0</td>\n",
       "      <td>0.0</td>\n",
       "      <td>more than 1 million</td>\n",
       "      <td>NaN</td>\n",
       "      <td>NaN</td>\n",
       "      <td>NaN</td>\n",
       "      <td>1.0</td>\n",
       "      <td>NaN</td>\n",
       "      <td>NaN</td>\n",
       "      <td>India</td>\n",
       "      <td>...</td>\n",
       "      <td>1.0</td>\n",
       "      <td>bachelor's degree</td>\n",
       "      <td>Computer Science</td>\n",
       "      <td>NaN</td>\n",
       "      <td>NaN</td>\n",
       "      <td>NaN</td>\n",
       "      <td>NaN</td>\n",
       "      <td>NaN</td>\n",
       "      <td>NaN</td>\n",
       "      <td>10000.000000</td>\n",
       "    </tr>\n",
       "    <tr>\n",
       "      <th>15587</th>\n",
       "      <td>27.0</td>\n",
       "      <td>0.0</td>\n",
       "      <td>more than 1 million</td>\n",
       "      <td>NaN</td>\n",
       "      <td>NaN</td>\n",
       "      <td>1.0</td>\n",
       "      <td>NaN</td>\n",
       "      <td>NaN</td>\n",
       "      <td>15 to 29 minutes</td>\n",
       "      <td>India</td>\n",
       "      <td>...</td>\n",
       "      <td>1.0</td>\n",
       "      <td>bachelor's degree</td>\n",
       "      <td>Communications</td>\n",
       "      <td>25000.0</td>\n",
       "      <td>NaN</td>\n",
       "      <td>1.0</td>\n",
       "      <td>1.0</td>\n",
       "      <td>1.0</td>\n",
       "      <td>NaN</td>\n",
       "      <td>4166.666667</td>\n",
       "    </tr>\n",
       "  </tbody>\n",
       "</table>\n",
       "<p>5 rows × 74 columns</p>\n",
       "</div>"
      ],
      "text/plain": [
       "        Age  AttendedBootcamp                 CityPopulation  \\\n",
       "1728   24.0               0.0  between 100,000 and 1 million   \n",
       "7989   28.0               0.0  between 100,000 and 1 million   \n",
       "8126   22.0               0.0            more than 1 million   \n",
       "13398  19.0               0.0            more than 1 million   \n",
       "15587  27.0               0.0            more than 1 million   \n",
       "\n",
       "       CodeEventConferences  CodeEventGameJam  CodeEventHackathons  \\\n",
       "1728                    NaN               1.0                  NaN   \n",
       "7989                    1.0               NaN                  NaN   \n",
       "8126                    NaN               1.0                  1.0   \n",
       "13398                   NaN               NaN                  NaN   \n",
       "15587                   NaN               NaN                  1.0   \n",
       "\n",
       "       CodeEventNone  CodeEventWorkshops       CommuteTime CountryCitizen  \\\n",
       "1728             NaN                 NaN               NaN          India   \n",
       "7989             NaN                 1.0  15 to 29 minutes          India   \n",
       "8126             NaN                 NaN               NaN          India   \n",
       "13398            1.0                 NaN               NaN          India   \n",
       "15587            NaN                 NaN  15 to 29 minutes          India   \n",
       "\n",
       "             ...        ResourceW3S       SchoolDegree  \\\n",
       "1728         ...                1.0  bachelor's degree   \n",
       "7989         ...                NaN  bachelor's degree   \n",
       "8126         ...                NaN  bachelor's degree   \n",
       "13398        ...                1.0  bachelor's degree   \n",
       "15587        ...                1.0  bachelor's degree   \n",
       "\n",
       "                                  SchoolMajor  StudentDebtOwe  YouTubeFCC  \\\n",
       "1728                     Computer Programming             NaN         1.0   \n",
       "7989   Aerospace and Aeronautical Engineering          2500.0         1.0   \n",
       "8126   Electrical and Electronics Engineering         10000.0         NaN   \n",
       "13398                        Computer Science             NaN         NaN   \n",
       "15587                          Communications         25000.0         NaN   \n",
       "\n",
       "      YouTubeGoogleDev  YouTubeLearnCode  YouTubeMIT  YouTubeTheNewBoston  \\\n",
       "1728               NaN               NaN         NaN                  NaN   \n",
       "7989               NaN               NaN         NaN                  NaN   \n",
       "8126               1.0               NaN         1.0                  1.0   \n",
       "13398              NaN               NaN         NaN                  NaN   \n",
       "15587              1.0               1.0         1.0                  NaN   \n",
       "\n",
       "       monthly_spending  \n",
       "1728        5000.000000  \n",
       "7989        5000.000000  \n",
       "8126        5000.000000  \n",
       "13398      10000.000000  \n",
       "15587       4166.666667  \n",
       "\n",
       "[5 rows x 74 columns]"
      ]
     },
     "execution_count": 33,
     "metadata": {},
     "output_type": "execute_result"
    }
   ],
   "source": [
    "# Look into outliers from India - potentially those who spent > $4000/month?\n",
    "\n",
    "india_outliers = spending_by_country_cleaned[\n",
    "    (spending_by_country_cleaned.CountryLive == 'India') & (spending_by_country_cleaned.monthly_spending > 4000)]\n",
    "\n",
    "col_filter(india_outliers)"
   ]
  },
  {
   "cell_type": "code",
   "execution_count": 34,
   "metadata": {
    "collapsed": false
   },
   "outputs": [
    {
     "data": {
      "text/plain": [
       "Age                                                                19\n",
       "AttendedBootcamp                                                    0\n",
       "CityPopulation                                    more than 1 million\n",
       "CodeEventNone                                                       1\n",
       "CountryCitizen                                                  India\n",
       "CountryLive                                                     India\n",
       "EmploymentStatus                                       Unable to work\n",
       "ExpectedEarning                                                100000\n",
       "Gender                                                           male\n",
       "HasDebt                                                             0\n",
       "HasFinancialDependents                                              0\n",
       "HasHighSpdInternet                                                  0\n",
       "HasServedInMilitary                                                 0\n",
       "HoursLearning                                                      30\n",
       "ID.x                                 b7fe7bc4edefc3a60eb48f977e4426e3\n",
       "ID.y                                 80ff09859ac475b70ac19b7b7369e953\n",
       "IsEthnicMinority                                                    0\n",
       "IsReceiveDisabilitiesBenefits                                       0\n",
       "IsSoftwareDev                                                       0\n",
       "JobApplyWhen                                        I haven't decided\n",
       "JobInterestMobile                                                   1\n",
       "JobPref                          work for a multinational corporation\n",
       "JobRelocateYesNo                                                    1\n",
       "JobRoleInterest                                      Mobile Developer\n",
       "JobWherePref                                            no preference\n",
       "LanguageAtHome                                                  Hindi\n",
       "MaritalStatus                                   single, never married\n",
       "MoneyForLearning                                                20000\n",
       "MonthsProgramming                                                   2\n",
       "NetworkID                                                  51a6f9a1a7\n",
       "Part1EndTime                                      2017-04-01 00:31:25\n",
       "Part1StartTime                                    2017-04-01 00:28:17\n",
       "Part2EndTime                                      2017-04-01 00:33:44\n",
       "Part2StartTime                                    2017-04-01 00:31:32\n",
       "ResourceSO                                                          1\n",
       "ResourceW3S                                                         1\n",
       "SchoolDegree                                        bachelor's degree\n",
       "SchoolMajor                                          Computer Science\n",
       "monthly_spending                                                10000\n",
       "Name: 13398, dtype: object"
      ]
     },
     "execution_count": 34,
     "metadata": {},
     "output_type": "execute_result"
    }
   ],
   "source": [
    "# While none of these people completed a bootcamp, which was likely costly, they did attend at least certain event(s) \n",
    "# for coding education.\n",
    "# For the person spent $10000 per month\n",
    "\n",
    "indian_top_spender = india_outliers.loc[13398]\n",
    "indian_top_spender[indian_top_spender.notnull()]"
   ]
  },
  {
   "cell_type": "markdown",
   "metadata": {},
   "source": [
    "Upon inspecting the outlier in detail, we found that the expensive \\$10000 spending might be the cost for his/her education, potentially an online CS degree. "
   ]
  },
  {
   "cell_type": "markdown",
   "metadata": {},
   "source": [
    "##  Choosing the Two Best Markets"
   ]
  },
  {
   "cell_type": "code",
   "execution_count": 35,
   "metadata": {
    "collapsed": false
   },
   "outputs": [
    {
     "data": {
      "text/plain": [
       "United States of America    74.916986\n",
       "India                       11.826309\n",
       "United Kingdom               7.126437\n",
       "Canada                       6.130268\n",
       "Name: CountryLive, dtype: float64"
      ]
     },
     "execution_count": 35,
     "metadata": {},
     "output_type": "execute_result"
    }
   ],
   "source": [
    "spending_by_country['CountryLive'].value_counts(normalize = True)*100"
   ]
  },
  {
   "cell_type": "markdown",
   "metadata": {
    "collapsed": true
   },
   "source": [
    "1) *United States*  \n",
    "2) *India*"
   ]
  },
  {
   "cell_type": "code",
   "execution_count": null,
   "metadata": {
    "collapsed": true
   },
   "outputs": [],
   "source": []
  }
 ],
 "metadata": {
  "kernelspec": {
   "display_name": "Python 3",
   "language": "python",
   "name": "python3"
  },
  "language_info": {
   "codemirror_mode": {
    "name": "ipython",
    "version": 3
   },
   "file_extension": ".py",
   "mimetype": "text/x-python",
   "name": "python",
   "nbconvert_exporter": "python",
   "pygments_lexer": "ipython3",
   "version": "3.4.3"
  }
 },
 "nbformat": 4,
 "nbformat_minor": 2
}
